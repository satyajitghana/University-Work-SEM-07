{
 "cells": [
  {
   "cell_type": "markdown",
   "metadata": {},
   "source": [
    "# Computational Intelligence"
   ]
  },
  {
   "cell_type": "markdown",
   "metadata": {},
   "source": [
    "## Lab01\n",
    "\n",
    "Implement BFS"
   ]
  },
  {
   "cell_type": "code",
   "execution_count": 6,
   "metadata": {},
   "outputs": [],
   "source": [
    "from collections import defaultdict\n",
    "from queue import Queue\n",
    "from typing import List, Any"
   ]
  },
  {
   "cell_type": "code",
   "execution_count": 76,
   "metadata": {},
   "outputs": [],
   "source": [
    "class Graph:\n",
    "    def __init__(self):\n",
    "        self._graph = defaultdict(list)\n",
    "    \n",
    "    def add_edge(self, u, v):\n",
    "        self._graph[u].append(v)\n",
    "        \n",
    "    def neighbours(self, u):\n",
    "        return self._graph[u]\n",
    "    \n",
    "    def bfs(self, start):\n",
    "        t_queue: Queue = Queue()\n",
    "        d_visited: Dict[Any, List] = {n: False for n in self._graph.keys()}\n",
    "        \n",
    "        print(f'BFS, start={start}: [', end=\"\")\n",
    "        \n",
    "        t_queue.put(start)\n",
    "        d_visited[start] = True\n",
    "        \n",
    "        while not t_queue.empty():\n",
    "            node = t_queue.get()\n",
    "            \n",
    "            print(f'{node},', end=\" \")\n",
    "            \n",
    "            for neighbour in self.neighbours(node):\n",
    "                if not d_visited[neighbour]:\n",
    "                    t_queue.put(neighbour)\n",
    "                    d_visited[neighbour] = True\n",
    "        print(\"\\b\\b]\")"
   ]
  },
  {
   "cell_type": "code",
   "execution_count": 77,
   "metadata": {},
   "outputs": [],
   "source": [
    "graph = Graph()"
   ]
  },
  {
   "cell_type": "code",
   "execution_count": 78,
   "metadata": {},
   "outputs": [],
   "source": [
    "graph.add_edge(0, 1)\n",
    "graph.add_edge(0, 2)\n",
    "graph.add_edge(1, 2)\n",
    "graph.add_edge(2, 0)\n",
    "graph.add_edge(2, 3)\n",
    "graph.add_edge(3, 3)"
   ]
  },
  {
   "cell_type": "code",
   "execution_count": 79,
   "metadata": {},
   "outputs": [
    {
     "data": {
      "text/plain": [
       "defaultdict(list, {0: [1, 2], 1: [2], 2: [0, 3], 3: [3]})"
      ]
     },
     "execution_count": 79,
     "metadata": {},
     "output_type": "execute_result"
    }
   ],
   "source": [
    "graph._graph"
   ]
  },
  {
   "cell_type": "code",
   "execution_count": 80,
   "metadata": {},
   "outputs": [
    {
     "name": "stdout",
     "output_type": "stream",
     "text": [
      "BFS, start=2: [2, 0, 3, 1]\n"
     ]
    }
   ],
   "source": [
    "graph.bfs(2)"
   ]
  },
  {
   "cell_type": "markdown",
   "metadata": {},
   "source": [
    "## Lab02\n",
    "\n",
    "Implement DFS"
   ]
  },
  {
   "cell_type": "code",
   "execution_count": 81,
   "metadata": {},
   "outputs": [],
   "source": [
    "from collections import defaultdict, deque\n",
    "from typing import List, Any"
   ]
  },
  {
   "cell_type": "code",
   "execution_count": 82,
   "metadata": {},
   "outputs": [],
   "source": [
    "class Graph:\n",
    "    def __init__(self):\n",
    "        self._graph = defaultdict(list)\n",
    "    \n",
    "    def add_edge(self, u, v):\n",
    "        self._graph[u].append(v)\n",
    "        \n",
    "    def neighbours(self, u):\n",
    "        return self._graph[u]\n",
    "    \n",
    "    def dfs(self, start):\n",
    "        t_stack: deque = deque()\n",
    "        d_visited: Dict[Any, List] = {n: False for n in self._graph.keys()}\n",
    "        path: List[Any] = [] \n",
    "        \n",
    "        t_stack.append(start)\n",
    "        print(f'DFS, start={start}:', end=\" \")\n",
    "        \n",
    "        while not (len(t_stack) == 0):\n",
    "            node = t_stack.pop()\n",
    "            \n",
    "            if not d_visited[node]:\n",
    "                path.append(node)\n",
    "                d_visited[node] = True\n",
    "                for neighbour in self.neighbours(node):\n",
    "                    if not d_visited[neighbour]:\n",
    "                        t_stack.append(neighbour)\n",
    "        print(path)"
   ]
  },
  {
   "cell_type": "code",
   "execution_count": 83,
   "metadata": {},
   "outputs": [],
   "source": [
    "graph = Graph()"
   ]
  },
  {
   "cell_type": "code",
   "execution_count": 84,
   "metadata": {},
   "outputs": [],
   "source": [
    "graph.add_edge(0, 1)\n",
    "graph.add_edge(0, 2)\n",
    "graph.add_edge(1, 2)\n",
    "graph.add_edge(2, 0)\n",
    "graph.add_edge(2, 3)\n",
    "graph.add_edge(3, 3)"
   ]
  },
  {
   "cell_type": "code",
   "execution_count": 85,
   "metadata": {},
   "outputs": [
    {
     "name": "stdout",
     "output_type": "stream",
     "text": [
      "DFS, start=2: [2, 3, 0, 1]\n"
     ]
    }
   ],
   "source": [
    "graph.dfs(2)"
   ]
  },
  {
   "cell_type": "markdown",
   "metadata": {},
   "source": [
    "## Lab03\n",
    "\n",
    "Implement Genetic Algorithm"
   ]
  },
  {
   "cell_type": "code",
   "execution_count": 89,
   "metadata": {},
   "outputs": [],
   "source": [
    "import random\n",
    "import math"
   ]
  },
  {
   "cell_type": "code",
   "execution_count": 90,
   "metadata": {},
   "outputs": [],
   "source": [
    "def generate_population(size, x_boundaries, y_boundaries):\n",
    "    lower_x_boundary, upper_x_boundary = x_boundaries\n",
    "    lower_y_boundary, upper_y_boundary = y_boundaries\n",
    "\n",
    "    population = []\n",
    "    for i in range(size):\n",
    "        individual = {\n",
    "            \"x\": random.uniform(lower_x_boundary, upper_x_boundary),\n",
    "            \"y\": random.uniform(lower_y_boundary, upper_y_boundary),\n",
    "        }\n",
    "        population.append(individual)\n",
    "\n",
    "    return population"
   ]
  },
  {
   "cell_type": "code",
   "execution_count": 91,
   "metadata": {},
   "outputs": [],
   "source": [
    "def apply_function(individual):\n",
    "    x = individual[\"x\"]\n",
    "    y = individual[\"y\"]\n",
    "    return math.sin(math.sqrt(x ** 2 + y ** 2))"
   ]
  },
  {
   "cell_type": "code",
   "execution_count": 92,
   "metadata": {},
   "outputs": [],
   "source": [
    "def choice_by_roulette(sorted_population, fitness_sum):\n",
    "    offset = 0\n",
    "    normalized_fitness_sum = fitness_sum\n",
    "\n",
    "    lowest_fitness = apply_function(sorted_population[0])\n",
    "    if lowest_fitness < 0:\n",
    "        offset = -lowest_fitness\n",
    "        normalized_fitness_sum += offset * len(sorted_population)\n",
    "\n",
    "    draw = random.uniform(0, 1)\n",
    "\n",
    "    accumulated = 0\n",
    "    for individual in sorted_population:\n",
    "        fitness = apply_function(individual) + offset\n",
    "        probability = fitness / normalized_fitness_sum\n",
    "        accumulated += probability\n",
    "\n",
    "        if draw <= accumulated:\n",
    "            return individual"
   ]
  },
  {
   "cell_type": "code",
   "execution_count": 93,
   "metadata": {},
   "outputs": [],
   "source": [
    "def sort_population_by_fitness(population):\n",
    "    return sorted(population, key=apply_function)\n",
    "\n",
    "\n",
    "def crossover(individual_a, individual_b):\n",
    "    xa = individual_a[\"x\"]\n",
    "    ya = individual_a[\"y\"]\n",
    "\n",
    "    xb = individual_b[\"x\"]\n",
    "    yb = individual_b[\"y\"]\n",
    "\n",
    "    return {\"x\": (xa + xb) / 2, \"y\": (ya + yb) / 2}\n",
    "\n",
    "\n",
    "def mutate(individual):\n",
    "    next_x = individual[\"x\"] + random.uniform(-0.05, 0.05)\n",
    "    next_y = individual[\"y\"] + random.uniform(-0.05, 0.05)\n",
    "\n",
    "    lower_boundary, upper_boundary = (-4, 4)\n",
    "\n",
    "    # Guarantee we keep inside boundaries\n",
    "    next_x = min(max(next_x, lower_boundary), upper_boundary)\n",
    "    next_y = min(max(next_y, lower_boundary), upper_boundary)\n",
    "\n",
    "    return {\"x\": next_x, \"y\": next_y}\n",
    "\n",
    "\n",
    "def make_next_generation(previous_population):\n",
    "    next_generation = []\n",
    "    sorted_by_fitness_population = sort_population_by_fitness(previous_population)\n",
    "    population_size = len(previous_population)\n",
    "    fitness_sum = sum(apply_function(individual) for individual in population)\n",
    "\n",
    "    for i in range(population_size):\n",
    "        first_choice = choice_by_roulette(sorted_by_fitness_population, fitness_sum)\n",
    "        second_choice = choice_by_roulette(sorted_by_fitness_population, fitness_sum)\n",
    "\n",
    "        individual = crossover(first_choice, second_choice)\n",
    "        individual = mutate(individual)\n",
    "        next_generation.append(individual)\n",
    "\n",
    "    return next_generation"
   ]
  },
  {
   "cell_type": "code",
   "execution_count": 99,
   "metadata": {},
   "outputs": [
    {
     "name": "stdout",
     "output_type": "stream",
     "text": [
      "🧬 GENERATION 1\n",
      "{'x': -1.3011230969271406, 'y': -3.633537495598837} -0.6577880831654199\n",
      "{'x': -2.119026984622984, 'y': 2.102465533380462} 0.15588534887550368\n",
      "{'x': 0.2258877280628413, 'y': -0.852273106392226} 0.7718208579881026\n",
      "{'x': 3.523665033526653, 'y': -2.3916619172710982} -0.8988228302038925\n",
      "{'x': 1.0716611510972722, 'y': 3.006856846809704} -0.05050829406013226\n",
      "{'x': -0.3371910094634556, 'y': 3.3656225947712546} -0.2385561596849194\n",
      "{'x': 1.233782611074913, 'y': 3.8997458799803164} -0.812640355233504\n",
      "{'x': 2.0807337670398125, 'y': 1.432221135489133} 0.577436926986806\n",
      "{'x': 1.284542147162064, 'y': 0.8818566304294659} 0.9999195820297072\n",
      "{'x': 1.9490102787696877, 'y': -3.0661837176260596} -0.4720412396341789\n",
      "🧬 GENERATION 20\n",
      "{'x': -0.25501248268691085, 'y': 1.298605067947228} 0.9695550471145489\n",
      "{'x': -0.3102677233192787, 'y': 1.3383850186501984} 0.980674139993738\n",
      "{'x': -0.2969637219238426, 'y': 1.2698228993778777} 0.9646428715765631\n",
      "{'x': -0.2884059712581866, 'y': 1.3048660531354859} 0.972645031881805\n",
      "{'x': -0.34106324692687945, 'y': 1.2817862310302959} 0.9702802089328333\n",
      "{'x': -0.3543749463396456, 'y': 1.3141230707384843} 0.9780871251363045\n",
      "{'x': -0.35403714593777347, 'y': 1.3262495016049205} 0.980441193228268\n",
      "{'x': -0.31120755312537224, 'y': 1.3095744665671967} 0.9748494153264677\n",
      "{'x': -0.3171700634599102, 'y': 1.2907312687456638} 0.9709403112098671\n",
      "{'x': -0.3471483479124146, 'y': 1.2741460491933512} 0.9688615595810348\n",
      "🧬 GENERATION 40\n",
      "{'x': -0.3204575268642972, 'y': 1.0913054445320722} 0.907537635434244\n",
      "{'x': -0.3213674462397161, 'y': 1.1668506166257784} 0.9357205984890135\n",
      "{'x': -0.314921918018518, 'y': 1.2799972977063667} 0.9682590088821852\n",
      "{'x': -0.26396881748109796, 'y': 1.1918741287436063} 0.939358640251267\n",
      "{'x': -0.3570451360562707, 'y': 1.1121533444999891} 0.9199923281717582\n",
      "{'x': -0.35002600333563744, 'y': 1.266502291665258} 0.9672038119773779\n",
      "{'x': -0.36115151839379267, 'y': 1.1760739784370693} 0.9425812037465775\n",
      "{'x': -0.3423333235437869, 'y': 1.2789076269853756} 0.969683516430281\n",
      "{'x': -0.33789703450129904, 'y': 1.1459467448996619} 0.9301147707241133\n",
      "{'x': -0.3623542472234567, 'y': 1.1803057273039872} 0.9440410388928706\n",
      "🧬 GENERATION 60\n",
      "{'x': -0.364734012287457, 'y': 1.2080735416817012} 0.9526794277899364\n",
      "{'x': -0.34625019531068163, 'y': 1.3058858618331266} 0.9759439811726925\n",
      "{'x': -0.35768189640645104, 'y': 1.2824954516578737} 0.9714906383411136\n",
      "{'x': -0.2779159116655593, 'y': 1.2855394231524784} 0.967522104405859\n",
      "{'x': -0.3422394198130492, 'y': 1.25512946387112} 0.9638125802892203\n",
      "{'x': -0.302355056938097, 'y': 1.226511339473213} 0.9530729958077736\n",
      "{'x': -0.318109037826522, 'y': 1.2963059974503004} 0.9722741244061192\n",
      "{'x': -0.24634206847433218, 'y': 1.3015516148137143} 0.9698607908043188\n",
      "{'x': -0.3880079039347942, 'y': 1.18830880464998} 0.9490007558200467\n",
      "{'x': -0.3055694526132662, 'y': 1.299060058985006} 0.9722151461816764\n",
      "🧬 GENERATION 80\n",
      "{'x': -0.3517552480542303, 'y': 1.302665573449483} 0.9755746056177922\n",
      "{'x': -0.3206454911066755, 'y': 1.231181461818631} 0.9557652150830914\n",
      "{'x': -0.39665252053874256, 'y': 1.2044979320733122} 0.9545445288509216\n",
      "{'x': -0.3340772200176675, 'y': 1.2120931249538613} 0.9512579831242151\n",
      "{'x': -0.35446519164395607, 'y': 1.1871338589928904} 0.9454339309072595\n",
      "{'x': -0.35324099780557316, 'y': 1.2174264152774843} 0.9543983977474785\n",
      "{'x': -0.31900861204607867, 'y': 1.2884931831623017} 0.9705241885137081\n",
      "{'x': -0.35120883934971814, 'y': 1.2634345137213314} 0.966529781509391\n",
      "{'x': -0.3286180849137487, 'y': 1.3274918756156289} 0.9794187954446535\n",
      "{'x': -0.3462668631667928, 'y': 1.256706377197603} 0.9644985982620475\n",
      "🧬 GENERATION 100\n",
      "{'x': -0.33365874741221907, 'y': 1.2199764352280804} 0.9535415276564833\n",
      "{'x': -0.38070421528797255, 'y': 1.299428722627413} 0.9766022749334101\n",
      "{'x': -0.26381480303819627, 'y': 1.2425266657944485} 0.955167403106868\n",
      "{'x': -0.31317120669100784, 'y': 1.2582723134718474} 0.9626591852350879\n",
      "{'x': -0.31124126616042935, 'y': 1.225980431279141} 0.9535687340997426\n",
      "{'x': -0.32901087904617515, 'y': 1.2375843672528115} 0.9581795457050271\n",
      "{'x': -0.32161690681596833, 'y': 1.249702366633856} 0.9609524063375459\n",
      "{'x': -0.31679939402461466, 'y': 1.2254501004325749} 0.9538290941135198\n",
      "{'x': -0.290518915565998, 'y': 1.2403488443796566} 0.9562542843573523\n",
      "{'x': -0.31364326697100264, 'y': 1.351666644784323} 0.9832625615919761\n",
      "\n",
      "🔬 FINAL RESULT\n",
      "{'x': -0.31364326697100264, 'y': 1.351666644784323} 0.9832625615919761\n"
     ]
    }
   ],
   "source": [
    "generations = 100\n",
    "\n",
    "population = generate_population(size=10, x_boundaries=(-4, 4), y_boundaries=(-4, 4))\n",
    "\n",
    "i = 1\n",
    "while True:\n",
    "    if i == 1 or i % 20 == 0 or i == generations:\n",
    "        print(f\"🧬 GENERATION {i}\")\n",
    "\n",
    "        for individual in population:\n",
    "            print(individual, apply_function(individual))\n",
    "\n",
    "    if i == generations:\n",
    "        break\n",
    "\n",
    "    i += 1\n",
    "\n",
    "    population = make_next_generation(population)\n",
    "\n",
    "best_individual = sort_population_by_fitness(population)[-1]\n",
    "print(\"\\n🔬 FINAL RESULT\")\n",
    "print(best_individual, apply_function(best_individual))"
   ]
  },
  {
   "cell_type": "markdown",
   "metadata": {},
   "source": [
    "## Lab04\n",
    "\n",
    "Implement Hill Climbing"
   ]
  },
  {
   "cell_type": "code",
   "execution_count": 124,
   "metadata": {},
   "outputs": [],
   "source": [
    "import numpy as np\n",
    "import matplotlib.pyplot as plt"
   ]
  },
  {
   "cell_type": "code",
   "execution_count": 121,
   "metadata": {},
   "outputs": [],
   "source": [
    "class HillClimbing:\n",
    "    def __init__(self, init_point):\n",
    "        self.init_point = np.array(init_point)\n",
    "        self.best_point = self.init_point.copy()\n",
    "        self.history = []\n",
    "        \n",
    "    def eval_function(self, inp):\n",
    "        # simple sphere function as `eval_function`\n",
    "        return np.sqrt(np.dot(inp, inp))\n",
    "    \n",
    "    def perform_climb(self, max_iters: int = 100, step_size: int = 2, print_interval = 10):\n",
    "        for it in range(1, max_iters+1):\n",
    "            new_point = self.best_point + np.random.randn(*self.best_point.shape) * step_size\n",
    "            if self.eval_function(new_point) < self.eval_function(self.best_point):\n",
    "                self.best_point = new_point\n",
    "                \n",
    "            if it % print_interval == 0 or it == 1 or it == max_iters:\n",
    "                print(f'iter: {it}, current best: {self.best_point}, eval_val: {self.eval_function(self.best_point)}')\n",
    "            self.history.append(self.eval_function(self.best_point))"
   ]
  },
  {
   "cell_type": "code",
   "execution_count": 143,
   "metadata": {},
   "outputs": [],
   "source": [
    "hc = HillClimbing(init_point = np.array([10, 10]))"
   ]
  },
  {
   "cell_type": "code",
   "execution_count": 144,
   "metadata": {},
   "outputs": [
    {
     "name": "stdout",
     "output_type": "stream",
     "text": [
      "iter: 1, current best: [ 9.98635198 10.00550587], eval_val: 14.136384742915844\n",
      "iter: 200, current best: [9.55343791 9.30183383], eval_val: 13.333877475867638\n",
      "iter: 400, current best: [8.96416743 8.70970694], eval_val: 12.498611630062948\n",
      "iter: 600, current best: [8.57865281 7.98539969], eval_val: 11.720063663596903\n",
      "iter: 800, current best: [8.11924282 7.42828176], eval_val: 11.00461148524459\n",
      "iter: 1000, current best: [7.53116891 6.93846841], eval_val: 10.240158642490599\n",
      "iter: 1200, current best: [6.80079027 6.41440563], eval_val: 9.348547896381062\n",
      "iter: 1400, current best: [6.32146629 5.84299991], eval_val: 8.608227695997956\n",
      "iter: 1600, current best: [5.85878055 5.07542102], eval_val: 7.7514648928218195\n",
      "iter: 1800, current best: [5.3086119 4.6581421], eval_val: 7.062552520560365\n",
      "iter: 2000, current best: [4.57303044 4.20183023], eval_val: 6.210312765726735\n",
      "iter: 2200, current best: [3.83323265 3.80406831], eval_val: 5.400426677602964\n",
      "iter: 2400, current best: [3.25867389 3.19213541], eval_val: 4.561653646390361\n",
      "iter: 2600, current best: [2.69460381 2.55140574], eval_val: 3.7108706448977657\n",
      "iter: 2800, current best: [2.10608543 1.96339766], eval_val: 2.879327385440341\n",
      "iter: 3000, current best: [1.47321448 1.46170393], eval_val: 2.0753166713413242\n",
      "iter: 3200, current best: [1.0520408  0.89351662], eval_val: 1.3802759840377845\n",
      "iter: 3400, current best: [0.35712524 0.33189577], eval_val: 0.4875379300573248\n",
      "iter: 3600, current best: [-0.00130743  0.00077312], eval_val: 0.0015189103937671474\n",
      "iter: 3800, current best: [0.00012122 0.00043111], eval_val: 0.0004478245099984501\n",
      "iter: 4000, current best: [0.00012122 0.00043111], eval_val: 0.0004478245099984501\n",
      "iter: 4200, current best: [0.00012122 0.00043111], eval_val: 0.0004478245099984501\n",
      "iter: 4400, current best: [0.00012122 0.00043111], eval_val: 0.0004478245099984501\n",
      "iter: 4600, current best: [0.00012122 0.00043111], eval_val: 0.0004478245099984501\n",
      "iter: 4800, current best: [0.00012122 0.00043111], eval_val: 0.0004478245099984501\n",
      "iter: 5000, current best: [0.00012122 0.00043111], eval_val: 0.0004478245099984501\n"
     ]
    }
   ],
   "source": [
    "hc.perform_climb(max_iters=5000, step_size=0.01, print_interval=200)"
   ]
  },
  {
   "cell_type": "code",
   "execution_count": 145,
   "metadata": {},
   "outputs": [
    {
     "data": {
      "text/plain": [
       "Text(0, 0.5, 'loss')"
      ]
     },
     "execution_count": 145,
     "metadata": {},
     "output_type": "execute_result"
    },
    {
     "data": {
      "image/png": "[encoded data removed]",
      "text/plain": [
       "<Figure size 432x288 with 1 Axes>"
      ]
     },
     "metadata": {
      "needs_background": "light"
     },
     "output_type": "display_data"
    }
   ],
   "source": [
    "plt.plot(hc.history)\n",
    "plt.xlabel('iterations')\n",
    "plt.ylabel('loss')"
   ]
  },
  {
   "cell_type": "markdown",
   "metadata": {},
   "source": [
    "## Lab05\n",
    "\n",
    "Implement MinMax - Alpha Beta Pruning Algorithm"
   ]
  },
  {
   "cell_type": "code",
   "execution_count": 176,
   "metadata": {},
   "outputs": [],
   "source": [
    "import numpy as np"
   ]
  },
  {
   "cell_type": "code",
   "execution_count": 177,
   "metadata": {},
   "outputs": [],
   "source": [
    "def minmax(maximizing_player, values):\n",
    "    alpha = -np.inf\n",
    "    beta = np.inf\n",
    "    \n",
    "    def _minmax(depth, node_idx, maximizing_player, values, alpha, beta):\n",
    "        \n",
    "        if depth == 3:\n",
    "            return values[node_idx]\n",
    "        \n",
    "        if maximizing_player:\n",
    "            \n",
    "            best = -np.inf\n",
    "            \n",
    "            # left and right children\n",
    "            for i in range(0, 2):\n",
    "                val = _minmax(depth + 1, node_idx * 2 + i, False, values, alpha, beta)\n",
    "                \n",
    "                best = max(best, val)\n",
    "                alpha = max(alpha, best)\n",
    "                \n",
    "                if beta <= alpha:\n",
    "                    break\n",
    "                    \n",
    "            return best\n",
    "        \n",
    "        else:\n",
    "            \n",
    "            best = np.inf\n",
    "            \n",
    "            # left and right children\n",
    "            for i in range(0, 2):\n",
    "                val = _minmax(depth + 1, node_idx * 2 + i, True, values, alpha, beta)\n",
    "                \n",
    "                best = min(best, val)\n",
    "                beta = min(beta, best)\n",
    "                \n",
    "                if beta <= alpha:\n",
    "                    break\n",
    "                    \n",
    "            return best \n",
    "    return _minmax(depth=0, node_idx=0, maximizing_player=maximizing_player, values=values, alpha=alpha, beta=beta)"
   ]
  },
  {
   "cell_type": "code",
   "execution_count": 179,
   "metadata": {},
   "outputs": [
    {
     "name": "stdout",
     "output_type": "stream",
     "text": [
      "values: [3, 5, 6, 9, 1, 2, 0, -1]\n",
      "optimal value: 5\n"
     ]
    }
   ],
   "source": [
    "values = [3, 5, 6, 9, 1, 2, 0, -1]\n",
    "\n",
    "optimal_val = minmax(maximizing_player=True, values=values)\n",
    "\n",
    "print(f'values: {values}')\n",
    "print(f'optimal value: {optimal_val}')"
   ]
  },
  {
   "cell_type": "markdown",
   "metadata": {},
   "source": [
    "## Lab06\n",
    "\n",
    "Implement Fuzzy Logic"
   ]
  },
  {
   "cell_type": "code",
   "execution_count": 149,
   "metadata": {},
   "outputs": [],
   "source": [
    "import warnings\n",
    "warnings.filterwarnings(\"ignore\")"
   ]
  },
  {
   "cell_type": "code",
   "execution_count": 150,
   "metadata": {},
   "outputs": [],
   "source": [
    "import numpy as np\n",
    "import skfuzzy as fuzz\n",
    "from skfuzzy import control as ctrl"
   ]
  },
  {
   "cell_type": "code",
   "execution_count": 151,
   "metadata": {},
   "outputs": [],
   "source": [
    "# New Antecedent/Consequent objects hold universe variables and membership\n",
    "# functions\n",
    "quality = ctrl.Antecedent(np.arange(0, 11, 1), 'quality')\n",
    "service = ctrl.Antecedent(np.arange(0, 11, 1), 'service')\n",
    "tip     = ctrl.Consequent(np.arange(0, 26, 1), 'tip')\n",
    "\n",
    "# Auto-membership function population is possible with .automf(3, 5, or 7)\n",
    "quality.automf(3)\n",
    "service.automf(3)\n",
    "\n",
    "# Custom membership functions can be built interactively with a familiar,\n",
    "# Pythonic API\n",
    "tip['low']    = fuzz.trimf(tip.universe, [0, 0, 13])\n",
    "tip['medium'] = fuzz.trimf(tip.universe, [0, 13, 25])\n",
    "tip['high']   = fuzz.trimf(tip.universe, [13, 25, 25])"
   ]
  },
  {
   "cell_type": "code",
   "execution_count": 152,
   "metadata": {},
   "outputs": [
    {
     "data": {
      "image/png": "[encoded data removed]",
      "text/plain": [
       "<Figure size 432x288 with 1 Axes>"
      ]
     },
     "metadata": {
      "needs_background": "light"
     },
     "output_type": "display_data"
    }
   ],
   "source": [
    "quality['average'].view()"
   ]
  },
  {
   "cell_type": "code",
   "execution_count": 153,
   "metadata": {},
   "outputs": [
    {
     "data": {
      "image/png": "[encoded data removed]",
      "text/plain": [
       "<Figure size 432x288 with 1 Axes>"
      ]
     },
     "metadata": {
      "needs_background": "light"
     },
     "output_type": "display_data"
    }
   ],
   "source": [
    "service.view()"
   ]
  },
  {
   "cell_type": "code",
   "execution_count": 154,
   "metadata": {},
   "outputs": [
    {
     "data": {
      "image/png": "[encoded data removed]",
      "text/plain": [
       "<Figure size 432x288 with 1 Axes>"
      ]
     },
     "metadata": {
      "needs_background": "light"
     },
     "output_type": "display_data"
    }
   ],
   "source": [
    "tip.view()"
   ]
  },
  {
   "cell_type": "code",
   "execution_count": 155,
   "metadata": {},
   "outputs": [
    {
     "data": {
      "text/plain": [
       "(<Figure size 432x288 with 1 Axes>, <AxesSubplot:>)"
      ]
     },
     "execution_count": 155,
     "metadata": {},
     "output_type": "execute_result"
    },
    {
     "data": {
      "image/png": "[encoded data removed]",
      "text/plain": [
       "<Figure size 432x288 with 1 Axes>"
      ]
     },
     "metadata": {},
     "output_type": "display_data"
    }
   ],
   "source": [
    "rule1 = ctrl.Rule(quality['poor'] | service['poor'], tip['low'])\n",
    "rule2 = ctrl.Rule(service['average'], tip['medium'])\n",
    "rule3 = ctrl.Rule(service['good'] | quality['good'], tip['high'])\n",
    "\n",
    "rule1.view()"
   ]
  },
  {
   "cell_type": "code",
   "execution_count": 156,
   "metadata": {},
   "outputs": [],
   "source": [
    "tipping_ctrl = ctrl.ControlSystem([rule1, rule2, rule3])"
   ]
  },
  {
   "cell_type": "code",
   "execution_count": 157,
   "metadata": {},
   "outputs": [],
   "source": [
    "tipping = ctrl.ControlSystemSimulation(tipping_ctrl)"
   ]
  },
  {
   "cell_type": "code",
   "execution_count": 158,
   "metadata": {},
   "outputs": [],
   "source": [
    "# Pass inputs to the ControlSystem using Antecedent labels with Pythonic API\n",
    "# Note: if you like passing many inputs all at once, use .inputs(dict_of_data)\n",
    "tipping.input['quality'] = 6.5\n",
    "tipping.input['service'] = 9.8\n",
    "\n",
    "# Crunch the numbers\n",
    "tipping.compute()"
   ]
  },
  {
   "cell_type": "code",
   "execution_count": 159,
   "metadata": {},
   "outputs": [
    {
     "name": "stdout",
     "output_type": "stream",
     "text": [
      "19.847607361963192\n"
     ]
    },
    {
     "data": {
      "image/png": "[encoded data removed]",
      "text/plain": [
       "<Figure size 432x288 with 1 Axes>"
      ]
     },
     "metadata": {
      "needs_background": "light"
     },
     "output_type": "display_data"
    }
   ],
   "source": [
    "print(tipping.output['tip'])\n",
    "tip.view(sim=tipping)"
   ]
  },
  {
   "cell_type": "markdown",
   "metadata": {},
   "source": [
    "## Lab07\n",
    "\n",
    "Implement Neural Network"
   ]
  },
  {
   "cell_type": "code",
   "execution_count": 118,
   "metadata": {},
   "outputs": [],
   "source": [
    "import numpy as np\n",
    "import matplotlib.pyplot as plt\n",
    "from matplotlib import cm"
   ]
  },
  {
   "cell_type": "code",
   "execution_count": 104,
   "metadata": {},
   "outputs": [],
   "source": [
    "class NeuralNet:\n",
    "    def __init__(self, w_init, b_init):\n",
    "        self.w = w_init\n",
    "        self.b = b_init\n",
    "        self.w_h = []\n",
    "        self.b_h = []\n",
    "        self.e_h = []\n",
    "        \n",
    "    def sigmoid(self, x, w=None, b=None):\n",
    "        w = self.w if w is None else w\n",
    "        b = self.b if b is None else b\n",
    "        \n",
    "        return 1. / (1. + np.exp(-(w * x + b)))\n",
    "    \n",
    "    def error(self, X, Y, w=None, b=None):\n",
    "        w = self.w if w is None else w\n",
    "        b = self.b if b is None else b\n",
    "        \n",
    "        err = 0\n",
    "        for x, y in zip(X, Y):\n",
    "            err += 0.5 * (self.sigmoid(x, w, b) - y) ** 2\n",
    "            \n",
    "        return err\n",
    "    \n",
    "    def grad_w(self, x, y, w=None, b=None):\n",
    "        w = self.w if w is None else w\n",
    "        b = self.b if b is None else b\n",
    "        \n",
    "        y_pred = self.sigmoid(x)\n",
    "        \n",
    "        return (y_pred - y) * y_pred * (1 - y_pred) * x\n",
    "    \n",
    "    def grad_b(self, x, y, w=None, b=None):\n",
    "        w = self.w if w is None else w\n",
    "        b = self.b if b is None else b\n",
    "        \n",
    "        y_pred = self.sigmoid(x, w, b)\n",
    "        \n",
    "        return (y_pred - y) * y_pred * (1 - y_pred)\n",
    "    \n",
    "    def fit(self, X, Y, epochs=100, eta=0.01):\n",
    "        self.w_h = []\n",
    "        self.b_h = []\n",
    "        self.e_h = []\n",
    "        self.X = X\n",
    "        self.Y = Y\n",
    "        \n",
    "        for i in range(epochs):\n",
    "            dw, db = 0, 0\n",
    "            for x, y in zip(X, Y):\n",
    "                dw += self.grad_w(x, y)\n",
    "                db += self.grad_b(x, y)\n",
    "                \n",
    "            self.w -= eta * dw / X.shape[0]\n",
    "            self.b -= eta * db / X.shape[0]\n",
    "            \n",
    "            # log the error\n",
    "            self.e_h.append(self.error(self.X, self.Y))\n",
    "            self.w_h.append(self.w)\n",
    "            self.b_h.append(self.b)"
   ]
  },
  {
   "cell_type": "code",
   "execution_count": 105,
   "metadata": {},
   "outputs": [],
   "source": [
    "X = np.asarray([3.5, 0.35, 3.2, -2.0, 1.5, -0.5])\n",
    "Y = np.asarray([0.5, 0.50, 0.5, 0.5, 0.1, 0.3])"
   ]
  },
  {
   "cell_type": "code",
   "execution_count": 106,
   "metadata": {},
   "outputs": [],
   "source": [
    "w_init = -6\n",
    "b_init = 4.0"
   ]
  },
  {
   "cell_type": "code",
   "execution_count": 112,
   "metadata": {},
   "outputs": [],
   "source": [
    "nn = NeuralNet(w_init=w_init, b_init=b_init)"
   ]
  },
  {
   "cell_type": "code",
   "execution_count": 113,
   "metadata": {},
   "outputs": [],
   "source": [
    "nn.fit(X, Y, epochs=4000, eta=1)"
   ]
  },
  {
   "cell_type": "code",
   "execution_count": 114,
   "metadata": {},
   "outputs": [
    {
     "data": {
      "image/png": "[encoded data removed]",
      "text/plain": [
       "<Figure size 432x288 with 1 Axes>"
      ]
     },
     "metadata": {
      "needs_background": "light"
     },
     "output_type": "display_data"
    }
   ],
   "source": [
    "plt.plot(nn.e_h, 'r')\n",
    "plt.plot(nn.w_h, 'b')\n",
    "plt.plot(nn.b_h, 'g')\n",
    "\n",
    "plt.show()"
   ]
  },
  {
   "cell_type": "code",
   "execution_count": 119,
   "metadata": {},
   "outputs": [
    {
     "data": {
      "image/png": "[encoded data removed]",
      "text/plain": [
       "<Figure size 600x400 with 1 Axes>"
      ]
     },
     "metadata": {
      "needs_background": "light"
     },
     "output_type": "display_data"
    }
   ],
   "source": [
    "w_min = -7\n",
    "w_max = 5\n",
    "\n",
    "b_min = -7\n",
    "b_max = 5\n",
    "\n",
    "W = np.linspace(w_min, w_max, 256)\n",
    "b = np.linspace(b_min, b_max, 256)\n",
    "WW, BB = np.meshgrid(W, b)\n",
    "Z = nn.error(X, Y, WW, BB)\n",
    "\n",
    "fig = plt.figure(dpi=100)\n",
    "ax = plt.subplot(111)\n",
    "ax.set_xlabel('w')\n",
    "ax.set_xlim(w_min - 1, w_max + 1)\n",
    "ax.set_ylabel('b')\n",
    "ax.set_ylim(b_min - 1, b_max + 1)\n",
    "title = ax.set_title('Epoch 0')\n",
    "cset = plt.contourf(WW, BB, Z, 25, alpha=0.6, cmap=cm.bwr)"
   ]
  },
  {
   "cell_type": "code",
   "execution_count": null,
   "metadata": {},
   "outputs": [],
   "source": []
  }
 ],
 "metadata": {
  "kernelspec": {
   "display_name": "Python 3",
   "language": "python",
   "name": "python3"
  },
  "language_info": {
   "codemirror_mode": {
    "name": "ipython",
    "version": 3
   },
   "file_extension": ".py",
   "mimetype": "text/x-python",
   "name": "python",
   "nbconvert_exporter": "python",
   "pygments_lexer": "ipython3",
   "version": "3.8.6"
  }
 },
 "nbformat": 4,
 "nbformat_minor": 4
}
